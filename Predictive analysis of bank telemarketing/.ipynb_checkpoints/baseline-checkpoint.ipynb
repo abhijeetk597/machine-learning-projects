{
 "cells": [
  {
   "cell_type": "markdown",
   "id": "fe5a17db-b403-4eb5-9c51-addf50980675",
   "metadata": {},
   "source": [
    "# Baseline Model\n",
    "\n",
    "The purpose of this experiment is to establish a baseline for a domain-driven model and to compare it to more sophisticated machine learning models using baseline features. Without collaboration with stakeholders or additional predictors such as customer tenure, lifetime value, historical response rate etc our baseline model will simply follow our intuited rule:\n",
    "> Include the customer if they responded positively to the previous marketing campaign. If there were not enough respondents to use up the entire budget then randomly sample the training set for additional instances to ensure that the maximum number of customers are included.\n",
    "\n",
    "To estimate the performance of machine learning models, we will train the following models with three different hyperparameter configurations, selecting the best configuration and averaging the scores of the best models.\n",
    "- Naive Bayes\n",
    "- Decision tree\n",
    "- Logistic regression\n",
    "- KNN\n",
    "- SVM\n",
    "- Random Forest"
   ]
  },
  {
   "cell_type": "code",
   "execution_count": null,
   "id": "e56bc613-e53f-491a-99c3-3afa45fd3250",
   "metadata": {},
   "outputs": [],
   "source": [
    "import pandas as pd\n",
    "import numpy as np\n",
    "import scikitplot as skplt\n",
    "\n",
    "# model evaluation\n",
    "from sklearn.metrics import classification report\n",
    "from sklearn.model_selection import train_test_split, cross_val_predict\n",
    "from support.evaluation import plot_learning_curve, evaluate model"
   ]
  }
 ],
 "metadata": {
  "kernelspec": {
   "display_name": "Python 3 (ipykernel)",
   "language": "python",
   "name": "python3"
  },
  "language_info": {
   "codemirror_mode": {
    "name": "ipython",
    "version": 3
   },
   "file_extension": ".py",
   "mimetype": "text/x-python",
   "name": "python",
   "nbconvert_exporter": "python",
   "pygments_lexer": "ipython3",
   "version": "3.11.5"
  }
 },
 "nbformat": 4,
 "nbformat_minor": 5
}
